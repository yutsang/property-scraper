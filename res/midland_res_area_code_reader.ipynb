{
 "cells": [
  {
   "cell_type": "code",
   "execution_count": 1,
   "metadata": {},
   "outputs": [],
   "source": [
    "# This code is to get the area code data from\n",
    "# https://www.midland.com.hk/en/list/transaction \n",
    "# with the tag calling: int_sm_district?lang=en under \"network\""
   ]
  },
  {
   "cell_type": "code",
   "execution_count": 1,
   "metadata": {},
   "outputs": [
    {
     "name": "stdout",
     "output_type": "stream",
     "text": [
      "Data has been saved to midland_res_area_code.xlsx\n"
     ]
    }
   ],
   "source": [
    "import json\n",
    "import pandas as pd\n",
    "import os\n",
    "\n",
    "# Load the JSON data\n",
    "input_filename = 'midland_res_area_code.json'\n",
    "output_filename = os.path.splitext(input_filename)[0] + '.xlsx'\n",
    "\n",
    "with open(input_filename, 'r') as file:\n",
    "    data = json.load(file)\n",
    "\n",
    "# Function to flatten the JSON structure\n",
    "def flatten_json(data):\n",
    "    rows = []\n",
    "    for region in data:  # Iterate through regions (e.g., Hong Kong Island, Kowloon)\n",
    "        for district in region.get('int_district', []):  # Iterate through districts\n",
    "            for sm_district in district.get('int_sm_district', []):  # Iterate through sub-districts\n",
    "                rows.append({\n",
    "                    'm_district_code': sm_district['id'],  # Renamed column for sub-district ID\n",
    "                    'district_id': district['id'],         # Larger district ID\n",
    "                    'district_name': district['name'],     # Larger district name\n",
    "                    'm_district': sm_district['name'],  # Sub-district name\n",
    "                    'seq': sm_district['seq']             # Sequence number of sub-district\n",
    "                })\n",
    "    return rows\n",
    "\n",
    "# Flatten the JSON data\n",
    "flattened_data = flatten_json(data)\n",
    "\n",
    "# Convert to DataFrame\n",
    "df = pd.DataFrame(flattened_data)\n",
    "\n",
    "# Save to Excel file\n",
    "df.to_excel(output_filename, index=False)\n",
    "\n",
    "print(f\"Data has been saved to {output_filename}\")\n"
   ]
  }
 ],
 "metadata": {
  "kernelspec": {
   "display_name": "base",
   "language": "python",
   "name": "python3"
  },
  "language_info": {
   "codemirror_mode": {
    "name": "ipython",
    "version": 3
   },
   "file_extension": ".py",
   "mimetype": "text/x-python",
   "name": "python",
   "nbconvert_exporter": "python",
   "pygments_lexer": "ipython3",
   "version": "3.10.14"
  }
 },
 "nbformat": 4,
 "nbformat_minor": 2
}
