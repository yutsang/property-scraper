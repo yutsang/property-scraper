{
 "cells": [
  {
   "cell_type": "code",
   "execution_count": null,
   "id": "e77fa80e",
   "metadata": {},
   "outputs": [],
   "source": [
    "from kedro.config import OmegaConfigLoader\n",
    "\n",
    "loader = OmegaConfigLoader(conf_source=\"conf/base\")\n",
    "params = loader[\"parameters\"]\n",
    "print(params[\"Control_date\"][\"centaline_estates\"])  # Should output \"2025-04-09\"\n"
   ]
  },
  {
   "cell_type": "code",
   "execution_count": null,
   "id": "f47602fe",
   "metadata": {},
   "outputs": [
    {
     "name": "stdout",
     "output_type": "stream",
     "text": [
      "Successfully converted 2025-04-02_centanet_estates_scraped.csv to estate_details_raw.parquet\n"
     ]
    }
   ],
   "source": [
    "# Change CSV to Parquet\n",
    "\n",
    "import pandas as pd\n",
    "\n",
    "def csv_to_parquet(csv_file_path, parquet_file_path):\n",
    "    try:\n",
    "        # Read the CSV file into a DataFrame\n",
    "        df = pd.read_csv(csv_file_path)\n",
    "        \n",
    "        # Write the DataFrame to a Parquet file\n",
    "        df.to_parquet(parquet_file_path, index=False)\n",
    "        \n",
    "        print(f\"Successfully converted {csv_file_path} to {parquet_file_path}\")\n",
    "    except Exception as e:\n",
    "        print(f\"An error occurred: {e}\")\n",
    "\n",
    "# Example usage\n",
    "csv_file_path = '2025-04-02_centanet_estates.csv'\n",
    "parquet_file_path = 'estate_listings.parquet'\n",
    "\n",
    "# Ensure pandas is installed\n",
    "# pip install pandas\n",
    "\n",
    "csv_to_parquet(csv_file_path, parquet_file_path)\n"
   ]
  },
  {
   "cell_type": "code",
   "execution_count": 13,
   "id": "6f31b01b",
   "metadata": {},
   "outputs": [
    {
     "data": {
      "text/html": [
       "<div>\n",
       "<style scoped>\n",
       "    .dataframe tbody tr th:only-of-type {\n",
       "        vertical-align: middle;\n",
       "    }\n",
       "\n",
       "    .dataframe tbody tr th {\n",
       "        vertical-align: top;\n",
       "    }\n",
       "\n",
       "    .dataframe thead th {\n",
       "        text-align: right;\n",
       "    }\n",
       "</style>\n",
       "<table border=\"1\" class=\"dataframe\">\n",
       "  <thead>\n",
       "    <tr style=\"text-align: right;\">\n",
       "      <th></th>\n",
       "      <th>Name</th>\n",
       "      <th>Address</th>\n",
       "      <th>Blocks</th>\n",
       "      <th>Units</th>\n",
       "      <th>UnitRate</th>\n",
       "      <th>MoM</th>\n",
       "      <th>ForSale</th>\n",
       "      <th>ForRent</th>\n",
       "      <th>Link</th>\n",
       "      <th>Region</th>\n",
       "      <th>District</th>\n",
       "      <th>Subdistrict</th>\n",
       "      <th>Code</th>\n",
       "      <th>LastScraped</th>\n",
       "    </tr>\n",
       "  </thead>\n",
       "  <tbody>\n",
       "  </tbody>\n",
       "</table>\n",
       "</div>"
      ],
      "text/plain": [
       "Empty DataFrame\n",
       "Columns: [Name, Address, Blocks, Units, UnitRate, MoM, ForSale, ForRent, Link, Region, District, Subdistrict, Code, LastScraped]\n",
       "Index: []"
      ]
     },
     "execution_count": 13,
     "metadata": {},
     "output_type": "execute_result"
    }
   ],
   "source": [
    "import pandas as pd\n",
    "\n",
    "parquet_file_path = 'data/02_intermediate/centaline_estate_lv_1.parquet'\n",
    "pq_file = pd.read_parquet(parquet_file_path)\n",
    "\n",
    "pq_file[pq_file['Name']=='']"
   ]
  },
  {
   "cell_type": "code",
   "execution_count": null,
   "id": "e22191c1",
   "metadata": {},
   "outputs": [],
   "source": []
  },
  {
   "cell_type": "code",
   "execution_count": 14,
   "id": "2a517d53",
   "metadata": {},
   "outputs": [
    {
     "data": {
      "text/html": [
       "<div>\n",
       "<style scoped>\n",
       "    .dataframe tbody tr th:only-of-type {\n",
       "        vertical-align: middle;\n",
       "    }\n",
       "\n",
       "    .dataframe tbody tr th {\n",
       "        vertical-align: top;\n",
       "    }\n",
       "\n",
       "    .dataframe thead th {\n",
       "        text-align: right;\n",
       "    }\n",
       "</style>\n",
       "<table border=\"1\" class=\"dataframe\">\n",
       "  <thead>\n",
       "    <tr style=\"text-align: right;\">\n",
       "      <th></th>\n",
       "      <th>Name</th>\n",
       "      <th>Address</th>\n",
       "      <th>Blocks</th>\n",
       "      <th>Units</th>\n",
       "      <th>Unit Rate</th>\n",
       "      <th>MoM</th>\n",
       "      <th>Trans Record</th>\n",
       "      <th>For Sale</th>\n",
       "      <th>For Rent</th>\n",
       "      <th>Estate Link</th>\n",
       "      <th>...</th>\n",
       "      <th>School Net Info</th>\n",
       "      <th>Estate Detailed Address</th>\n",
       "      <th>Developer</th>\n",
       "      <th>scraped_estate_name</th>\n",
       "      <th>occupation_permit</th>\n",
       "      <th>scraped_blocks</th>\n",
       "      <th>school_net_info</th>\n",
       "      <th>estate_detailed_address</th>\n",
       "      <th>developer</th>\n",
       "      <th>Link</th>\n",
       "    </tr>\n",
       "  </thead>\n",
       "  <tbody>\n",
       "    <tr>\n",
       "      <th>3424</th>\n",
       "      <td>Happy Vally 88</td>\n",
       "      <td>42 Blue Pool Road</td>\n",
       "      <td>1</td>\n",
       "      <td>48</td>\n",
       "      <td>--</td>\n",
       "      <td>--</td>\n",
       "      <td>--</td>\n",
       "      <td>--</td>\n",
       "      <td>--</td>\n",
       "      <td>https://hk.centanet.com/estate/en/Happy-Vally-...</td>\n",
       "      <td>...</td>\n",
       "      <td>Primary: 12 | Secondary: Wan Chai District</td>\n",
       "      <td>42 Blue Pool Road</td>\n",
       "      <td>None</td>\n",
       "      <td>None</td>\n",
       "      <td>None</td>\n",
       "      <td>None</td>\n",
       "      <td>None</td>\n",
       "      <td>None</td>\n",
       "      <td>None</td>\n",
       "      <td>None</td>\n",
       "    </tr>\n",
       "  </tbody>\n",
       "</table>\n",
       "<p>1 rows × 28 columns</p>\n",
       "</div>"
      ],
      "text/plain": [
       "                Name            Address Blocks Units Unit Rate MoM  \\\n",
       "3424  Happy Vally 88  42 Blue Pool Road      1    48        --  --   \n",
       "\n",
       "     Trans Record For Sale For Rent  \\\n",
       "3424           --       --       --   \n",
       "\n",
       "                                            Estate Link  ...  \\\n",
       "3424  https://hk.centanet.com/estate/en/Happy-Vally-...  ...   \n",
       "\n",
       "                                 School Net Info Estate Detailed Address  \\\n",
       "3424  Primary: 12 | Secondary: Wan Chai District       42 Blue Pool Road   \n",
       "\n",
       "     Developer scraped_estate_name occupation_permit scraped_blocks  \\\n",
       "3424      None                None              None           None   \n",
       "\n",
       "     school_net_info estate_detailed_address developer  Link  \n",
       "3424            None                    None      None  None  \n",
       "\n",
       "[1 rows x 28 columns]"
      ]
     },
     "execution_count": 14,
     "metadata": {},
     "output_type": "execute_result"
    }
   ],
   "source": [
    "import pandas as pd\n",
    "\n",
    "pq_1_path = 'data/02_intermediate/centaline_estate_lv_1.parquet'\n",
    "pq_2_path = 'data/02_intermediate/centaline_estate_lv_2.parquet'\n",
    "\n",
    "pq_1 = pd.read_parquet(pq_1_path)\n",
    "pq_2 = pd.read_parquet(pq_2_path)\n",
    "\n",
    "filtered_pq_2 = pq_2[~pq_2['Name'].isin(pq_1['Name'])]\n",
    "\n",
    "filtered_pq_2_v2 = filtered_pq_2[filtered_pq_2['Name'].notnull()]\n",
    "filtered_pq_2_v2"
   ]
  },
  {
   "cell_type": "code",
   "execution_count": 16,
   "id": "f7955632",
   "metadata": {},
   "outputs": [
    {
     "name": "stdout",
     "output_type": "stream",
     "text": [
      "     Subdistrict    Code  Row Count\n",
      "39  Kennedy Town  HMA111        199\n",
      "       Code  Row Count\n",
      "100  HMA111        199\n"
     ]
    }
   ],
   "source": [
    "# Grouping by 'Code' and calculating row count\n",
    "row_count_by_code_1 = pq_file.groupby(['Subdistrict', 'Code']).size().reset_index(name='Row Count')\n",
    "row_count_by_code_2 = pq_file.groupby(['Code']).size().reset_index(name='Row Count')\n",
    "\n",
    "\n",
    "# Displaying the result HMA151\n",
    "print(row_count_by_code_1[row_count_by_code_1['Code']=='HMA111'])\n",
    "print(row_count_by_code_2[row_count_by_code_2['Code']=='HMA111'])\n",
    "\n"
   ]
  },
  {
   "cell_type": "code",
   "execution_count": null,
   "id": "73d4ccc3",
   "metadata": {},
   "outputs": [],
   "source": []
  }
 ],
 "metadata": {
  "kernelspec": {
   "display_name": "base",
   "language": "python",
   "name": "python3"
  },
  "language_info": {
   "codemirror_mode": {
    "name": "ipython",
    "version": 3
   },
   "file_extension": ".py",
   "mimetype": "text/x-python",
   "name": "python",
   "nbconvert_exporter": "python",
   "pygments_lexer": "ipython3",
   "version": "3.10.14"
  }
 },
 "nbformat": 4,
 "nbformat_minor": 5
}
